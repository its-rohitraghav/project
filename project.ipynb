{
 "cells": [
  {
   "cell_type": "code",
   "execution_count": 1,
   "id": "53b4e14e-e5e0-4cfa-ac09-978ed250fd42",
   "metadata": {},
   "outputs": [],
   "source": [
    "import pandas as pd\n",
    "import matplotlib.pyplot as plt\n",
    "import seaborn as sns\n",
    "import numpy as np\n",
    "import os"
   ]
  },
  {
   "cell_type": "code",
   "execution_count": 2,
   "id": "550ead94-756f-407f-86fc-c172e76503e5",
   "metadata": {},
   "outputs": [],
   "source": [
    "# Load the Excel file\n",
    "df=pd.read_csv(\"disgenet_21_01_25.csv\")"
   ]
  },
  {
   "cell_type": "code",
   "execution_count": 3,
   "id": "0cdc5ef4-f845-4d5a-ac62-4b90f44ffffa",
   "metadata": {},
   "outputs": [],
   "source": [
    "# Create a directory for saving plots if it doesn't exist\n",
    "os.makedirs(\"eda_plots_6day_limited\", exist_ok=True)"
   ]
  },
  {
   "cell_type": "code",
   "execution_count": null,
   "id": "d785bf06-8f33-4eac-97bf-4dd07357e6bb",
   "metadata": {},
   "outputs": [],
   "source": [
    "#DAY 1: Basic Inspections & Score Distribution \n",
    "print(\"--- DAY 1: Basic Inspections & Score Distribution ---\")\n",
    "print(\"Shape:\", df.shape)\n",
    "print(\"Columns:\", df.columns.tolist())\n",
    "print(df.head())\n",
    "print(df.info())\n",
    "\n",
    "# Graph 1: Distribution of 'score'\n",
    "plt.figure(figsize=(8, 6))\n",
    "sns.histplot(df['score'], bins=30, kde=True)\n",
    "plt.title('Distribution of Association Score')\n",
    "plt.xlabel('Score')\n",
    "plt.ylabel('Frequency')\n",
    "plt.savefig(\"eda_plots_6day_limited/day1_score_distribution.png\")\n",
    "plt.show()\n",
    "plt.close()"
   ]
  },
  {
   "cell_type": "code",
   "execution_count": null,
   "id": "348ad18b-4dba-4419-b04a-5828f9e80eb0",
   "metadata": {},
   "outputs": [],
   "source": [
    "#DAY 2: Top Diseases & Gene DPI Distribution \n",
    "print(\"\\nTop Diseases & Gene DPI Distribution ---\")\n",
    "\n",
    "# Graph 2: Top 10 Diseases by Number of Associated Genes\n",
    "disease_counts = df['disease_name'].value_counts().nlargest(10)\n",
    "plt.figure(figsize=(10, 6))\n",
    "disease_counts.plot(kind='bar')\n",
    "plt.title('Top 10 Diseases by Number of Associated Genes')\n",
    "plt.xlabel('Disease Name')\n",
    "plt.ylabel('Number of Genes')\n",
    "plt.xticks(rotation=45, ha='right')\n",
    "plt.tight_layout()\n",
    "plt.savefig(\"eda_plots_6day_limited/day2_top_diseases.png\")\n",
    "plt.show()\n",
    "plt.close()"
   ]
  },
  {
   "cell_type": "code",
   "execution_count": null,
   "id": "cc84fa74-dce6-438d-a7db-4f566dc2c9da",
   "metadata": {},
   "outputs": [],
   "source": [
    "# Graph 3: Distribution of 'gene_dpi'\n",
    "if 'gene_dpi' in df.columns:\n",
    "    plt.figure(figsize=(8, 6))\n",
    "    sns.histplot(df['gene_dpi'].dropna(), bins=30, kde=True)\n",
    "    plt.title('Distribution of Gene-Disease Perturbation Index (DPI)')\n",
    "    plt.xlabel('Gene DPI')\n",
    "    plt.ylabel('Frequency')\n",
    "    plt.savefig(\"eda_plots_6day_limited/day2_gene_dpi_distribution.png\")\n",
    "    plt.show()\n",
    "    plt.close()\n",
    "else:\n",
    "    print(\"Column 'gene_dpi' not found.\")\n",
    "\n",
    "# DAY 3: Gene DSI Distribution & DPI vs DSI Scatter Plot \n",
    "print(\"\\nGene DSI Distribution & DPI vs DSI Scatter Plot ---\")"
   ]
  },
  {
   "cell_type": "code",
   "execution_count": null,
   "id": "10374e74-637e-494b-bd8a-855ed4bf11af",
   "metadata": {},
   "outputs": [],
   "source": [
    "# Graph 4: Distribution of 'gene_dsi'\n",
    "if 'gene_dsi' in df.columns:\n",
    "    plt.figure(figsize=(8, 6))\n",
    "    sns.histplot(df['gene_dsi'].dropna(), bins=30, kde=True)\n",
    "    plt.title('Distribution of Gene-Disease Specificity Index (DSI)')\n",
    "    plt.xlabel('Gene DSI')\n",
    "    plt.ylabel('Frequency')\n",
    "    plt.savefig(\"eda_plots_6day_limited/day3_gene_dsi_distribution.png\")\n",
    "    plt.show()\n",
    "    plt.close()\n",
    "else:\n",
    "    print(\"Column 'gene_dsi' not found.\")\n",
    "\n",
    "# Graph 5: Scatter plot of 'gene_dpi' vs 'gene_dsi'\n",
    "if 'gene_dpi' in df.columns and 'gene_dsi' in df.columns:\n",
    "    plt.figure(figsize=(8, 6))\n",
    "    sns.scatterplot(x='gene_dpi', y='gene_dsi', data=df)\n",
    "    plt.title('Scatter Plot of Gene DPI vs Gene DSI')\n",
    "    plt.xlabel('Gene DPI')\n",
    "    plt.ylabel('Gene DSI')\n",
    "    plt.savefig(\"eda_plots_6day_limited/day3_dpi_vs_dsi.png\")\n",
    "    plt.show()\n",
    "    plt.close()\n",
    "else:\n",
    "    print(\"Columns 'gene_dpi' or 'gene_dsi' not found for scatter plot.\")"
   ]
  },
  {
   "cell_type": "code",
   "execution_count": null,
   "id": "9ecc7bb7-3b38-4334-bf76-38fd3cbbfc47",
   "metadata": {},
   "outputs": [],
   "source": [
    "# DAY 4: Correlation Heatmap \n",
    "print(\"\\nCorrelation Heatmap ---\")\n",
    "\n",
    "# Graph 6: Correlation Heatmap of Numerical Features\n",
    "numerical_cols = df.select_dtypes(include=np.number)\n",
    "if numerical_cols.shape[1] > 1:\n",
    "    corr_matrix = numerical_cols.corr()\n",
    "    plt.figure(figsize=(10, 8))\n",
    "    sns.heatmap(corr_matrix, annot=False, cmap='coolwarm')\n",
    "    plt.title('Correlation Heatmap of Numerical Features')\n",
    "    plt.savefig(\"eda_plots_6day_limited/day4_correlation_heatmap.png\")\n",
    "    plt.show()\n",
    "    plt.close()\n",
    "else:\n",
    "    print(\"Not enough numerical columns to generate a correlation heatmap.\")"
   ]
  },
  {
   "cell_type": "code",
   "execution_count": null,
   "id": "e3268d34-c704-4498-936d-7d5127a4a06b",
   "metadata": {},
   "outputs": [],
   "source": [
    "# DAY 5: Score by Gene Type \n",
    "print(\"\\nScore by Gene Type ---\")\n",
    "\n",
    "# Graph 7: Boxplot of 'score' by a categorical gene feature ('gene_type')\n",
    "if 'gene_type' in df.columns and 'score' in df.columns:\n",
    "    top_gene_types = df['gene_type'].value_counts().nlargest(5).index\n",
    "    df_top_types = df[df['gene_type'].isin(top_gene_types)]\n",
    "    plt.figure(figsize=(10, 6))\n",
    "    sns.boxplot(x='gene_type', y='score', data=df_top_types)\n",
    "    plt.title('Score Distribution by Top 5 Gene Types')\n",
    "    plt.xlabel('Gene Type')\n",
    "    plt.ylabel('Score')\n",
    "    plt.xticks(rotation=45, ha='right')\n",
    "    plt.tight_layout()\n",
    "    plt.savefig(\"eda_plots_6day_limited/day5_score_by_gene_type.png\")\n",
    "    plt.show()\n",
    "    plt.close()\n",
    "else:\n",
    "    print(\"Columns 'gene_type' or 'score' not found for boxplot.\")"
   ]
  },
  {
   "cell_type": "code",
   "execution_count": null,
   "id": "03c827c9-4c2e-4627-b7e1-57095ff7e8cb",
   "metadata": {},
   "outputs": [],
   "source": [
    "# DAY 6: Top Genes by Disease Association & Optional pLI \n",
    "print(\"\\nTop Genes by Disease Association & Optional pLI ---\")\n",
    "\n",
    "# Graph 8: Top 10 Genes by Number of Associated Diseases\n",
    "gene_counts = df['gene_symbol'].value_counts().nlargest(10)\n",
    "plt.figure(figsize=(10, 6))\n",
    "gene_counts.plot(kind='bar')\n",
    "plt.title('Top 10 Genes by Number of Associated Diseases')\n",
    "plt.xlabel('Gene Symbol')\n",
    "plt.ylabel('Number of Diseases')\n",
    "plt.xticks(rotation=45, ha='right')\n",
    "plt.tight_layout()\n",
    "plt.savefig(\"eda_plots_6day_limited/day6_top_genes.png\")\n",
    "plt.show()\n",
    "plt.close()"
   ]
  },
  {
   "cell_type": "code",
   "execution_count": null,
   "id": "0b776b59-4b5c-4e1e-ba26-f84d98d2cce1",
   "metadata": {},
   "outputs": [],
   "source": [
    "#Graph 9: Distribution of another relevant gene feature ('gene_pli')\n",
    "if 'gene_pli' in df.columns:\n",
    "    plt.figure(figsize=(8, 6))\n",
    "    sns.histplot(df['gene_pli'].dropna(), bins=30, kde=True)\n",
    "    plt.title('Distribution of pLI Score')\n",
    "    plt.xlabel('pLI Score')\n",
    "    plt.ylabel('Frequency')\n",
    "    plt.savefig(\"eda_plots_6day_limited/day6_gene_pli_distribution.png\")\n",
    "    plt.show()\n",
    "    plt.close()\n",
    "else:\n",
    "    print(\"Column 'gene_pli' not found.\")"
   ]
  }
 ],
 "metadata": {
  "kernelspec": {
   "display_name": "Python 3 (ipykernel)",
   "language": "python",
   "name": "python3"
  },
  "language_info": {
   "codemirror_mode": {
    "name": "ipython",
    "version": 3
   },
   "file_extension": ".py",
   "mimetype": "text/x-python",
   "name": "python",
   "nbconvert_exporter": "python",
   "pygments_lexer": "ipython3",
   "version": "3.13.2"
  }
 },
 "nbformat": 4,
 "nbformat_minor": 5
}
